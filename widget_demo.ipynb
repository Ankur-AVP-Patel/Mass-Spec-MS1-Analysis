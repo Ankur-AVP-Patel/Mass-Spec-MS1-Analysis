{
 "cells": [
  {
   "cell_type": "markdown",
   "metadata": {},
   "source": [
    "# Demonstrate useful widgets\n",
    "\n",
    "To begin, click *Kernel*>*Restart & Run All*"
   ]
  },
  {
   "cell_type": "code",
   "execution_count": 1,
   "metadata": {},
   "outputs": [],
   "source": [
    "import base64\n",
    "import codecs\n",
    "import io\n",
    "import ipywidgets as widgets\n",
    "from ipywidgets import HTML\n",
    "from IPython.display import display\n",
    "from ipysheet import from_dataframe\n",
    "import pandas as pd"
   ]
  },
  {
   "cell_type": "markdown",
   "metadata": {},
   "source": [
    "## Uploader\n",
    "Click *Upload* to upload a file."
   ]
  },
  {
   "cell_type": "code",
   "execution_count": 2,
   "metadata": {},
   "outputs": [
    {
     "data": {
      "application/vnd.jupyter.widget-view+json": {
       "model_id": "cc89a73ad7434e5991fd1f7e0f51ace8",
       "version_major": 2,
       "version_minor": 0
      },
      "text/plain": [
       "FileUpload(value={}, accept='.csv', description='Upload')"
      ]
     },
     "metadata": {},
     "output_type": "display_data"
    }
   ],
   "source": [
    "uploader = widgets.FileUpload(accept = '.csv', multiple = False)\n",
    "display(uploader)"
   ]
  },
  {
   "cell_type": "markdown",
   "metadata": {},
   "source": [
    "Run the cell below to show file contents."
   ]
  },
  {
   "cell_type": "code",
   "execution_count": 8,
   "metadata": {},
   "outputs": [
    {
     "name": "stdout",
     "output_type": "stream",
     "text": [
      "Could not upload and display file, please make sure you have selected a file.\n"
     ]
    }
   ],
   "source": [
    "try:\n",
    "    file_contents = uploader.value[list(uploader.value.keys())[0]]['content'] # I hate this line of code\n",
    "    uploaded_df = pd.read_csv(io.BytesIO(file_contents))\n",
    "    display(from_dataframe(uploaded_df.head(10)))\n",
    "except:\n",
    "    print(\"Could not upload and display file, please make sure you have selected a file.\")"
   ]
  },
  {
   "cell_type": "markdown",
   "metadata": {},
   "source": [
    "## Multiple Selections\n",
    "Hold down control / command and click to select mulitple items."
   ]
  },
  {
   "cell_type": "code",
   "execution_count": 4,
   "metadata": {},
   "outputs": [
    {
     "data": {
      "application/vnd.jupyter.widget-view+json": {
       "model_id": "dfedf7ed5b15425fbd64d1f966107477",
       "version_major": 2,
       "version_minor": 0
      },
      "text/plain": [
       "SelectMultiple(description='Modification', options=('Sodium', 'Potassium', 'Chocolate'), value=())"
      ]
     },
     "metadata": {},
     "output_type": "display_data"
    }
   ],
   "source": [
    "selector = widgets.SelectMultiple(\n",
    "    options=['Sodium', 'Potassium', 'Chocolate'],\n",
    "    description='Modification',\n",
    "    disabled=False\n",
    ")\n",
    "display(selector)"
   ]
  },
  {
   "cell_type": "code",
   "execution_count": 5,
   "metadata": {},
   "outputs": [
    {
     "name": "stdout",
     "output_type": "stream",
     "text": [
      "No value selected, this is probably OK.\n"
     ]
    }
   ],
   "source": [
    "if not selector.value:\n",
    "    print('No value selected, this is probably OK.')\n",
    "else:\n",
    "    print(selector.value)"
   ]
  },
  {
   "cell_type": "markdown",
   "metadata": {},
   "source": [
    "## Downloader"
   ]
  },
  {
   "cell_type": "code",
   "execution_count": 6,
   "metadata": {},
   "outputs": [
    {
     "data": {
      "application/vnd.jupyter.widget-view+json": {
       "model_id": "f40df3236f184c9eb96c290f85ffe9d4",
       "version_major": 2,
       "version_minor": 0
      },
      "text/plain": [
       "HTML(value='<html>\\n<head>\\n<meta name=\"viewport\" content=\"width=device-width, initial-scale=1\">\\n</head>\\n<bo…"
      ]
     },
     "metadata": {},
     "output_type": "display_data"
    }
   ],
   "source": [
    "res = 'A,B,C,D\\n1,1,Cat,%^%&*^\\n2,2,Dog,asducnbaoisj\\n3,3,Fish,aspcmasp'\n",
    "\n",
    "#FILE\n",
    "filename = 'res.csv'\n",
    "b64 = base64.b64encode(res.encode())\n",
    "payload = b64.decode()\n",
    "\n",
    "#BUTTONS\n",
    "html_buttons = '''<html>\n",
    "<head>\n",
    "<meta name=\"viewport\" content=\"width=device-width, initial-scale=1\">\n",
    "</head>\n",
    "<body>\n",
    "<a download=\"{filename}\" href=\"data:text/csv;base64,{payload}\" download>\n",
    "<button class=\"p-Widget jupyter-widgets jupyter-button widget-button mod-warning\">Download File</button>\n",
    "</a>\n",
    "</body>\n",
    "</html>\n",
    "'''\n",
    "\n",
    "html_button = html_buttons.format(payload=payload,filename=filename)\n",
    "display(HTML(html_button))"
   ]
  }
 ],
 "metadata": {
  "kernelspec": {
   "display_name": "Python 3",
   "language": "python",
   "name": "python3"
  },
  "language_info": {
   "codemirror_mode": {
    "name": "ipython",
    "version": 3
   },
   "file_extension": ".py",
   "mimetype": "text/x-python",
   "name": "python",
   "nbconvert_exporter": "python",
   "pygments_lexer": "ipython3",
   "version": "3.7.7"
  }
 },
 "nbformat": 4,
 "nbformat_minor": 4
}
