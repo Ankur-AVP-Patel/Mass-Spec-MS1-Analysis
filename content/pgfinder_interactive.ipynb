{
 "cells": [
  {
   "cell_type": "markdown",
   "metadata": {
    "hideCode": true,
    "hidePrompt": true
   },
   "source": [
    "# PGFinder Interactive Notebook\n",
    "\n",
    "This notebook is a basic user interface to allow researchers less familiar with the command line to run PGFinder. Some compromises have been made to make it run as a Jupyter notebook on the free myBinder platform.\n",
    "\n",
    "To use the code to analyse your data you must work from top to bottom on this notebook, following instructions as you go. The first step is to execute all of the \"cells\" in the notebook so they are ready for your input. To do this...\n",
    "\n",
    "**Click *Kernel*>*Restart & Run All* on the menu, above.**\n",
    "\n",
    "If you have any problems or suggestions, or would like to contribute a mass database, please raise an [issue here](https://github.com/Mesnage-Org/pgfinder/issues). This notebook runs on the latest release. Please review the [release notes](https://github.com/Mesnage-Org/pgfinder/releases)."
   ]
  },
  {
   "cell_type": "code",
   "execution_count": 1,
   "metadata": {
    "hideCode": true,
    "hidePrompt": true
   },
   "outputs": [
    {
     "name": "stdout",
     "output_type": "stream",
     "text": [
      "[Tue, 25 Apr 2023 12:38:05] [INFO    ] [pgfinder] Loaded parameters from file : config/parameters.yaml\n",
      "[Tue, 25 Apr 2023 12:38:05] [INFO    ] [pgfinder] All parameters converted to decimal\n"
     ]
    }
   ],
   "source": [
    "import base64\n",
    "import codecs\n",
    "import io\n",
    "import os\n",
    "import uuid\n",
    "import ipywidgets as widgets\n",
    "from ipywidgets import HTML\n",
    "from IPython.display import display\n",
    "from ipysheet import from_dataframe\n",
    "import pandas as pd\n",
    "\n",
    "from pgfinder import matching, pgio, validation\n",
    "\n",
    "# Get list of modifications\n",
    "allowed_mods = validation.allowed_modifications()\n",
    "\n",
    "# Get built in mass lists\n",
    "mass_lists_path = './data/masses'\n",
    "mass_lists = os.listdir(mass_lists_path)\n",
    "mass_lists.append('Upload Custom')\n",
    "\n",
    "# Main analysis function\n",
    "def analysis(b):\n",
    "    # Upload deconvoluted file\n",
    "    # This widget returns a dictionary of details of uploaded files\n",
    "    # However, the widget is restricted to allow only one file\n",
    "    # Hence `.value[0]`\n",
    "    print(f\"~#~#~#~#~#~#~#~#~#~# data_uploader :\\n{data_uploader}\")\n",
    "    print(f\"~#~#~#~#~#~#~#~#~#~# data_uploader.children :\\n{data_uploader.children}\")\n",
    "    print(f\"~#~#~#~#~#~#~#~#~#~# data_uploader.children[0] :\\n{data_uploader.children[0]}\")\n",
    "    print(f\"~#~#~#~#~#~#~#~#~#~# data_uploader.children[0].value :\\n{data_uploader.children[0].value}\")\n",
    "    print(f\"~#~#~#~#~#~#~#~#~#~# data_uploader.children[0].value[0] :\\n{data_uploader.children[0].value[0]}\")\n",
    "    \n",
    "    uploaded_df = pgio.ms_upload_reader(data_uploader.children[0].value[0])\n",
    "    \n",
    "    # Load mass list\n",
    "    if rb_masses.value == 'Upload Custom':\n",
    "        theo_masses = pgio.theo_masses_upload_reader(mass_uploader.children[0].value[0])\n",
    "    else:\n",
    "        csv_filepath = os.path.join(mass_lists_path, rb_masses.value)\n",
    "        theo_masses = pgio.theo_masses_reader(csv_filepath)\n",
    "\n",
    "    # Load ppm value\n",
    "    user_ppm = ppm_tol.value\n",
    "\n",
    "    # Load time delta value\n",
    "    user_time_delta = time_delta.value\n",
    "\n",
    "    # Make sure mod list is a list\n",
    "    mod_list = list(selector_mods.value)\n",
    "    \n",
    "    results = matching.data_analysis(uploaded_df, theo_masses, user_time_delta, mod_list, user_ppm)\n",
    "    \n",
    "    # Make the download button\n",
    "    results_csv_str = results.to_csv()\n",
    "    filename = pgio.default_filename()\n",
    "    results_csv_str = pgio.dataframe_to_csv_metadata(output_dataframe=results)\n",
    "    b64 = base64.b64encode(results_csv_str.encode())\n",
    "    payload = b64.decode()\n",
    "\n",
    "    html_buttons = '''<html>\n",
    "    <head>\n",
    "    <meta name=\"viewport\" content=\"width=device-width, initial-scale=1\">\n",
    "    </head>\n",
    "    <body>\n",
    "    <a download=\"{filename}\" href=\"data:text/csv;base64,{payload}\" download>\n",
    "    <button class=\"p-Widget jupyter-widgets jupyter-button widget-button mod-warning\">Download File</button>\n",
    "    </a>\n",
    "    </body>\n",
    "    </html>\n",
    "    '''\n",
    "\n",
    "    html_button = html_buttons.format(payload=payload,filename=filename)\n",
    "    display(HTML(html_button))\n",
    "    \n",
    "# Define widgets\n",
    "\n",
    "# A composite widget for picking a file and displaying its name\n",
    "def named_file_upload(accept, description):\n",
    "    file_upload = widgets.FileUpload(\n",
    "        accept = accept, \n",
    "        description = description,\n",
    "        multiple = False,\n",
    "        layout = big_button\n",
    "    )\n",
    "    file_name = widgets.Label(value=\"No file selected...\")\n",
    "    def handle_file_upload(file):\n",
    "        file_name.value = file[\"new\"][0][\"name\"]\n",
    "    file_upload.observe(handle_file_upload, names='value')\n",
    "    return widgets.HBox([file_upload, file_name])\n",
    "\n",
    "# Layout for a bigger button\n",
    "big_button = widgets.Layout(width='auto')\n",
    "\n",
    "# Style for wider description\n",
    "wide_style = {'description_width': 'initial'}\n",
    "\n",
    "# Deconvoluted Data file upload\n",
    "data_uploader = named_file_upload('.txt,.ftrs', 'Upload Deconvoluted Data')\n",
    "\n",
    "# Modifcation selector\n",
    "selector_mods = widgets.SelectMultiple(\n",
    "    options = allowed_mods,\n",
    "    description = 'Modification',\n",
    "    disabled = False\n",
    ")\n",
    "\n",
    "# Mass library selector\n",
    "rb_masses = widgets.RadioButtons(\n",
    "    options = mass_lists,\n",
    "    description = 'Mass List',\n",
    "    disabled = False\n",
    ")\n",
    "\n",
    "# Mass library file upload\n",
    "mass_uploader = named_file_upload('.csv', 'Upload Mass Library')\n",
    "\n",
    "# Set PPM tolerance\n",
    "ppm_tol = widgets.BoundedFloatText(\n",
    "    value = 10.0,\n",
    "    min = 1,\n",
    "    max = 100,\n",
    "    step = 0.1,\n",
    "    description = 'Set ppm tolerance',\n",
    "    disabled = False,\n",
    "    style = wide_style\n",
    "    )\n",
    "\n",
    "# Set time delta for in source clean up\n",
    "time_delta = widgets.BoundedFloatText(\n",
    "    value = 0.5,\n",
    "    min = 0,\n",
    "    max = 100,\n",
    "    step = 0.01,\n",
    "    description = 'Set time delta value',\n",
    "    disabled = False,\n",
    "    style = wide_style\n",
    ")\n",
    "\n",
    "# Analysis button\n",
    "button = widgets.Button(description=\"Run Analysis\")\n",
    "button.on_click(analysis)"
   ]
  },
  {
   "cell_type": "markdown",
   "metadata": {
    "hideCode": true,
    "hidePrompt": true
   },
   "source": [
    "## Step 1: Upload Deconvoluted Data\n",
    "Click *Upload* to upload a `.txt` file output by MaxQuant ([example file](https://github.com/Mesnage-Org/pgfinder/raw/master/data/maxquant_test_data.txt)), or an `.ftrs` file."
   ]
  },
  {
   "cell_type": "code",
   "execution_count": 2,
   "metadata": {
    "hideCode": true,
    "hidePrompt": true
   },
   "outputs": [
    {
     "data": {
      "application/vnd.jupyter.widget-view+json": {
       "model_id": "0d03449de242468b898c9a33a68ebb43",
       "version_major": 2,
       "version_minor": 0
      },
      "text/plain": [
       "HBox(children=(FileUpload(value=(), accept='.txt,.ftrs', description='Upload Deconvoluted Data', layout=Layout…"
      ]
     },
     "metadata": {},
     "output_type": "display_data"
    }
   ],
   "source": [
    "display(data_uploader)"
   ]
  },
  {
   "cell_type": "markdown",
   "metadata": {
    "hideCode": true,
    "hidePrompt": true
   },
   "source": [
    "## Step 2: Select Modifications\n",
    "Select modifications (Hold down control / command and click to select mulitple items.)"
   ]
  },
  {
   "cell_type": "code",
   "execution_count": 3,
   "metadata": {
    "hideCode": true,
    "hidePrompt": true
   },
   "outputs": [
    {
     "data": {
      "application/vnd.jupyter.widget-view+json": {
       "model_id": "64c67728bcd04cbd887cf1504b038e2c",
       "version_major": 2,
       "version_minor": 0
      },
      "text/plain": [
       "SelectMultiple(description='Modification', options=('Sodium', 'Potassium', 'Anh', 'DeAc', 'DeAc_Anh', 'Nude', …"
      ]
     },
     "metadata": {},
     "output_type": "display_data"
    }
   ],
   "source": [
    "display(selector_mods) "
   ]
  },
  {
   "cell_type": "markdown",
   "metadata": {
    "hideCode": true,
    "hidePrompt": true
   },
   "source": [
    "## Step 3: Select or Upload Mass Library"
   ]
  },
  {
   "cell_type": "markdown",
   "metadata": {
    "hideCode": true,
    "hidePrompt": true
   },
   "source": [
    "### Select"
   ]
  },
  {
   "cell_type": "code",
   "execution_count": 4,
   "metadata": {
    "hideCode": true,
    "hidePrompt": true
   },
   "outputs": [
    {
     "data": {
      "application/vnd.jupyter.widget-view+json": {
       "model_id": "d34d77e7bcd44ab1822c73f58a2cf2bd",
       "version_major": 2,
       "version_minor": 0
      },
      "text/plain": [
       "RadioButtons(description='Mass List', options=('e_coli_monomer_masses.csv', 'c_diff_monomer_masses.csv', 'Uplo…"
      ]
     },
     "metadata": {},
     "output_type": "display_data"
    }
   ],
   "source": [
    "display(rb_masses)"
   ]
  },
  {
   "cell_type": "markdown",
   "metadata": {
    "hideCode": true,
    "hidePrompt": true
   },
   "source": [
    "### (Optional) Upload Custom Mass Library\n",
    "[Example mass library file.](https://raw.githubusercontent.com/Mesnage-Org/pgfinder/master/data/masses/e_coli_monomer_masses.csv)"
   ]
  },
  {
   "cell_type": "code",
   "execution_count": 5,
   "metadata": {
    "hideCode": true,
    "hidePrompt": true
   },
   "outputs": [
    {
     "data": {
      "application/vnd.jupyter.widget-view+json": {
       "model_id": "4fef36a7afc34dd0bd7803df38ba01c7",
       "version_major": 2,
       "version_minor": 0
      },
      "text/plain": [
       "HBox(children=(FileUpload(value=(), accept='.csv', description='Upload Mass Library', layout=Layout(width='aut…"
      ]
     },
     "metadata": {},
     "output_type": "display_data"
    }
   ],
   "source": [
    "display(mass_uploader)"
   ]
  },
  {
   "cell_type": "markdown",
   "metadata": {
    "hideCode": true,
    "hidePrompt": true
   },
   "source": [
    "## Step 4: Set PPM tolerance"
   ]
  },
  {
   "cell_type": "code",
   "execution_count": 6,
   "metadata": {
    "hideCode": true,
    "hidePrompt": true
   },
   "outputs": [
    {
     "data": {
      "application/vnd.jupyter.widget-view+json": {
       "model_id": "efb2fb666dcf4397b6b8994b54f2e4f0",
       "version_major": 2,
       "version_minor": 0
      },
      "text/plain": [
       "BoundedFloatText(value=10.0, description='Set ppm tolerance', min=1.0, step=0.1, style=DescriptionStyle(descri…"
      ]
     },
     "metadata": {},
     "output_type": "display_data"
    }
   ],
   "source": [
    "display(ppm_tol)"
   ]
  },
  {
   "cell_type": "markdown",
   "metadata": {
    "hideCode": true,
    "hidePrompt": true
   },
   "source": [
    "## Step 5: Set time window for in-source decay and salt adduct clean up"
   ]
  },
  {
   "cell_type": "code",
   "execution_count": 7,
   "metadata": {
    "hideCode": true,
    "hidePrompt": true
   },
   "outputs": [
    {
     "data": {
      "application/vnd.jupyter.widget-view+json": {
       "model_id": "522afb17b395464095df2073f3e2bde7",
       "version_major": 2,
       "version_minor": 0
      },
      "text/plain": [
       "BoundedFloatText(value=0.5, description='Set time delta value', step=0.01, style=DescriptionStyle(description_…"
      ]
     },
     "metadata": {},
     "output_type": "display_data"
    }
   ],
   "source": [
    "display(time_delta)"
   ]
  },
  {
   "cell_type": "markdown",
   "metadata": {
    "hideCode": true,
    "hidePrompt": true
   },
   "source": [
    "## Step 6: Run Analysis\n",
    "Click run analysis.\n",
    "After the analysis is complete, a download button will appear."
   ]
  },
  {
   "cell_type": "code",
   "execution_count": 8,
   "metadata": {
    "hideCode": true,
    "hidePrompt": true
   },
   "outputs": [
    {
     "data": {
      "application/vnd.jupyter.widget-view+json": {
       "model_id": "8cccc178c0b849bfb78eb186a5b7dde2",
       "version_major": 2,
       "version_minor": 0
      },
      "text/plain": [
       "Button(description='Run Analysis', style=ButtonStyle())"
      ]
     },
     "metadata": {},
     "output_type": "display_data"
    },
    {
     "name": "stdout",
     "output_type": "stream",
     "text": [
      "~#~#~#~#~#~#~#~#~#~# data_uploader :\n",
      "HBox(children=(FileUpload(value=({'name': 'WT.ftrs', 'type': '', 'size': 11436032, 'content': <memory at 0x7fb2e18a9840>, 'last_modified': datetime.datetime(2023, 4, 25, 9, 5, 51, 33000, tzinfo=datetime.timezone.utc)},), accept='.txt,.ftrs', description='Upload Deconvoluted Data', layout=Layout(width='auto')), Label(value='WT.ftrs')))\n",
      "~#~#~#~#~#~#~#~#~#~# data_uploader.children :\n",
      "(FileUpload(value=({'name': 'WT.ftrs', 'type': '', 'size': 11436032, 'content': <memory at 0x7fb2e18a9840>, 'last_modified': datetime.datetime(2023, 4, 25, 9, 5, 51, 33000, tzinfo=datetime.timezone.utc)},), accept='.txt,.ftrs', description='Upload Deconvoluted Data', layout=Layout(width='auto')), Label(value='WT.ftrs'))\n",
      "~#~#~#~#~#~#~#~#~#~# data_uploader.children[0] :\n",
      "FileUpload(value=({'name': 'WT.ftrs', 'type': '', 'size': 11436032, 'content': <memory at 0x7fb2e18a9840>, 'last_modified': datetime.datetime(2023, 4, 25, 9, 5, 51, 33000, tzinfo=datetime.timezone.utc)},), accept='.txt,.ftrs', description='Upload Deconvoluted Data', layout=Layout(width='auto'))\n",
      "~#~#~#~#~#~#~#~#~#~# data_uploader.children[0].value :\n",
      "({'name': 'WT.ftrs', 'type': '', 'size': 11436032, 'content': <memory at 0x7fb2e18a9840>, 'last_modified': datetime.datetime(2023, 4, 25, 9, 5, 51, 33000, tzinfo=datetime.timezone.utc)},)\n",
      "~#~#~#~#~#~#~#~#~#~# data_uploader.children[0].value[0] :\n",
      "{'name': 'WT.ftrs', 'type': '', 'size': 11436032, 'content': <memory at 0x7fb2e18a9840>, 'last_modified': datetime.datetime(2023, 4, 25, 9, 5, 51, 33000, tzinfo=datetime.timezone.utc)}\n",
      "[Tue, 25 Apr 2023 12:38:15] [INFO    ] [pgfinder] Theoretical masses loaded from      : ./data/masses/e_coli_monomer_masses.csv\n",
      "[Tue, 25 Apr 2023 12:38:15] [INFO    ] [pgfinder] Filtering theoretical masses by observed masses\n",
      "[Tue, 25 Apr 2023 12:38:15] [INFO    ] [pgfinder] Building custom search file\n",
      "[Tue, 25 Apr 2023 12:38:15] [INFO    ] [pgfinder] Generating variants\n",
      "[Tue, 25 Apr 2023 12:38:15] [INFO    ] [pgfinder] Matching\n",
      "[Tue, 25 Apr 2023 12:38:16] [INFO    ] [pgfinder] Cleaning data\n",
      "[Tue, 25 Apr 2023 12:38:16] [INFO    ] [pgfinder] No ^Na+ found\n",
      "[Tue, 25 Apr 2023 12:38:16] [INFO    ] [pgfinder] No ^K+ found\n",
      "[Tue, 25 Apr 2023 12:38:16] [INFO    ] [pgfinder] No ^m found\n"
     ]
    },
    {
     "data": {
      "application/vnd.jupyter.widget-view+json": {
       "model_id": "f8eba1712ddf4e5e98795b1c82c11df3",
       "version_major": 2,
       "version_minor": 0
      },
      "text/plain": [
       "HTML(value='<html>\\n    <head>\\n    <meta name=\"viewport\" content=\"width=device-width, initial-scale=1\">\\n    …"
      ]
     },
     "metadata": {},
     "output_type": "display_data"
    }
   ],
   "source": [
    "display(button)"
   ]
  }
 ],
 "metadata": {
  "hide_code_all_hidden": true,
  "kernelspec": {
   "display_name": "Python 3 (ipykernel)",
   "language": "python",
   "name": "python3"
  },
  "language_info": {
   "codemirror_mode": {
    "name": "ipython",
    "version": 3
   },
   "file_extension": ".py",
   "mimetype": "text/x-python",
   "name": "python",
   "nbconvert_exporter": "python",
   "pygments_lexer": "ipython3",
   "version": "3.10.10"
  }
 },
 "nbformat": 4,
 "nbformat_minor": 2
}
