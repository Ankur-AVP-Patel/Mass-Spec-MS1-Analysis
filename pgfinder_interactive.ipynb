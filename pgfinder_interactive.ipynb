{
 "cells": [
  {
   "cell_type": "markdown",
   "metadata": {
    "hideCode": true,
    "hidePrompt": true
   },
   "source": [
    "# PGFinder Interactive Notebook\n",
    "\n",
    "This notebook is a basic user interface to allow researchers less familiar with the command line to run PGFinder. Some compromises have been made to make it run as a Jupyter notebook on the free myBinder platform.\n",
    "\n",
    "To use the code to analyse your data you must work from top to bottom on this notebook, following instructions as you go. The first step is to execute all of the \"cells\" in the notebook so they are ready for your input. \n",
    "\n",
    "To do this, **click *Kernel*>*Restart & Run All* on the menu, above.**"
   ]
  },
  {
   "cell_type": "code",
   "execution_count": 1,
   "metadata": {
    "hideCode": true,
    "hidePrompt": true
   },
   "outputs": [],
   "source": [
    "import base64\n",
    "import codecs\n",
    "import io\n",
    "import os\n",
    "import ipywidgets as widgets\n",
    "from ipywidgets import HTML\n",
    "from IPython.display import display\n",
    "from ipysheet import from_dataframe\n",
    "import pandas as pd\n",
    "\n",
    "from pgfinder import matching, validation\n",
    "\n",
    "# Get list of modifications\n",
    "allowed_mods = validation.allowed_modifications()\n",
    "\n",
    "# Get built in mass lists\n",
    "mass_lists_path = './data/masses'\n",
    "mass_lists = os.listdir(mass_lists_path)\n",
    "\n",
    "# Utility functions\n",
    "def safe_load_deconvoluted():\n",
    "    try:\n",
    "        file_name = list(data_uploader.value.keys())[0]\n",
    "        file_contents = data_uploader.value[list(data_uploader.value.keys())[0]]['content'] # I hate this line of code\n",
    "        if not file_name.find('ftrs') == -1:\n",
    "            return matching.ftrs_reader(io.BytesIO(file_contents))\n",
    "        elif not file_name.find('txt') == -1:\n",
    "            return matching.maxquant_file_reader(io.BytesIO(file_contents))\n",
    "        else:\n",
    "            raise ValueError('Unknown file type.')\n",
    "    except:\n",
    "        print(\"Could not upload and display file, please make sure you have selected a file of the correct type.\")\n",
    "\n",
    "# Main analysis function\n",
    "def analysis(b):\n",
    "    # Upload maxquant file\n",
    "    uploaded_df = safe_load_deconvoluted()\n",
    "    \n",
    "    # Load mass list\n",
    "    csv_filepath = os.path.join(mass_lists_path, rb_masses.value)\n",
    "    theo_masses = matching.theo_masses_reader(csv_filepath)\n",
    "    \n",
    "    # Make sure mod list is a list\n",
    "    mod_list = list(selector_mods.value)\n",
    "    \n",
    "    # Validate inputs\n",
    "    validation.validate_raw_data_df(uploaded_df)\n",
    "    validation.validate_theo_masses_df(theo_masses)\n",
    "    validation.validate_enabled_mod_list(mod_list)\n",
    "\n",
    "    results = matching.data_analysis(uploaded_df, theo_masses, 0.5, mod_list, 10)\n",
    "    \n",
    "    # Make the download button\n",
    "    results_csv_str = results.to_csv()\n",
    "    filename = 'results.csv'\n",
    "    b64 = base64.b64encode(results_csv_str.encode())\n",
    "    payload = b64.decode()\n",
    "\n",
    "    html_buttons = '''<html>\n",
    "    <head>\n",
    "    <meta name=\"viewport\" content=\"width=device-width, initial-scale=1\">\n",
    "    </head>\n",
    "    <body>\n",
    "    <a download=\"{filename}\" href=\"data:text/csv;base64,{payload}\" download>\n",
    "    <button class=\"p-Widget jupyter-widgets jupyter-button widget-button mod-warning\">Download File</button>\n",
    "    </a>\n",
    "    </body>\n",
    "    </html>\n",
    "    '''\n",
    "\n",
    "    html_button = html_buttons.format(payload=payload,filename=filename)\n",
    "    display(HTML(html_button))\n",
    "    \n",
    "# Define widgets\n",
    "\n",
    "# Layout for a bigger button\n",
    "big_button = widgets.Layout(width='auto')\n",
    "\n",
    "# Deconvoluted Data file upload\n",
    "data_uploader = widgets.FileUpload(\n",
    "    accept = '.txt,.ftrs', \n",
    "    description = 'Upload Deconvoluted Data',\n",
    "    multiple = False,\n",
    "    layout = big_button\n",
    ") \n",
    "\n",
    "# Modifcation selector\n",
    "selector_mods = widgets.SelectMultiple(\n",
    "    options = allowed_mods,\n",
    "    description = 'Modification',\n",
    "    disabled = False\n",
    ")\n",
    "\n",
    "# Mass library file upload\n",
    "mass_uploader = widgets.FileUpload(\n",
    "    accept = '.csv', \n",
    "    description = 'Upload Mass Library',\n",
    "    multiple = False,\n",
    "    layout = big_button\n",
    ") \n",
    "\n",
    "# Mass library selector\n",
    "rb_masses = widgets.RadioButtons(\n",
    "    options = mass_lists,\n",
    "    description = 'Mass List',\n",
    "    disabled = False\n",
    ")\n",
    "\n",
    "# Analysis button\n",
    "button = widgets.Button(description=\"Run Analysis\")\n",
    "button.on_click(analysis)"
   ]
  },
  {
   "cell_type": "markdown",
   "metadata": {
    "hideCode": true,
    "hidePrompt": true
   },
   "source": [
    "## Step 1: Upload Deconvoluted Data\n",
    "Click *Upload* to upload a `.txt` file output by MaxQuant ([example file](https://github.com/Mesnage-Org/pgfinder/raw/master/data/maxquant_test_data.txt)), or an `.ftrs` file."
   ]
  },
  {
   "cell_type": "code",
   "execution_count": 2,
   "metadata": {
    "hideCode": true,
    "hidePrompt": true
   },
   "outputs": [
    {
     "data": {
      "application/vnd.jupyter.widget-view+json": {
       "model_id": "ccc2b2c0d1d84f3393876a16cd68e4d4",
       "version_major": 2,
       "version_minor": 0
      },
      "text/plain": [
       "FileUpload(value={}, accept='.txt,.ftrs', description='Upload Deconvoluted Data', layout=Layout(width='auto'))"
      ]
     },
     "metadata": {},
     "output_type": "display_data"
    }
   ],
   "source": [
    "display(data_uploader)"
   ]
  },
  {
   "cell_type": "markdown",
   "metadata": {
    "hideCode": true,
    "hidePrompt": true
   },
   "source": [
    "## Step 2: Select Modifications\n",
    "Select modifications (Hold down control / command and click to select mulitple items.)"
   ]
  },
  {
   "cell_type": "code",
   "execution_count": 3,
   "metadata": {
    "hideCode": true,
    "hidePrompt": true
   },
   "outputs": [
    {
     "data": {
      "application/vnd.jupyter.widget-view+json": {
       "model_id": "e6505b2a7c7a421bb4f777dedb0d9242",
       "version_major": 2,
       "version_minor": 0
      },
      "text/plain": [
       "SelectMultiple(description='Modification', options=('Sodium', 'Potassium', 'Anhydro', 'DeAc', 'Deacetyl_Anhydr…"
      ]
     },
     "metadata": {},
     "output_type": "display_data"
    }
   ],
   "source": [
    "display(selector_mods) "
   ]
  },
  {
   "cell_type": "markdown",
   "metadata": {
    "hideCode": true,
    "hidePrompt": true
   },
   "source": [
    "## Step 3: Select or Upload Mass Library"
   ]
  },
  {
   "cell_type": "markdown",
   "metadata": {
    "hideCode": true,
    "hidePrompt": true
   },
   "source": [
    "### Select"
   ]
  },
  {
   "cell_type": "code",
   "execution_count": 4,
   "metadata": {
    "hideCode": true,
    "hidePrompt": true
   },
   "outputs": [
    {
     "data": {
      "application/vnd.jupyter.widget-view+json": {
       "model_id": "4e6ffef4fce74f11a13a14fce27e458c",
       "version_major": 2,
       "version_minor": 0
      },
      "text/plain": [
       "RadioButtons(description='Mass List', options=('c_diff_monomer_masses.csv', 'e_coli_monomer_masses.csv'), valu…"
      ]
     },
     "metadata": {},
     "output_type": "display_data"
    }
   ],
   "source": [
    "display(rb_masses)"
   ]
  },
  {
   "cell_type": "markdown",
   "metadata": {
    "hideCode": true,
    "hidePrompt": true
   },
   "source": [
    "### Upload"
   ]
  },
  {
   "cell_type": "code",
   "execution_count": 5,
   "metadata": {
    "hideCode": true,
    "hidePrompt": true
   },
   "outputs": [
    {
     "data": {
      "application/vnd.jupyter.widget-view+json": {
       "model_id": "828550564958491083c9cae4261dd53c",
       "version_major": 2,
       "version_minor": 0
      },
      "text/plain": [
       "FileUpload(value={}, accept='.csv', description='Upload Mass Library', layout=Layout(width='auto'))"
      ]
     },
     "metadata": {},
     "output_type": "display_data"
    }
   ],
   "source": [
    "display(mass_uploader)"
   ]
  },
  {
   "cell_type": "markdown",
   "metadata": {
    "hideCode": true,
    "hidePrompt": true
   },
   "source": [
    "## Step 4: Run Analysis\n",
    "Click run analysis.\n",
    "After the analysis is complete, a download button will appear."
   ]
  },
  {
   "cell_type": "code",
   "execution_count": 6,
   "metadata": {
    "hideCode": true,
    "hidePrompt": true
   },
   "outputs": [
    {
     "data": {
      "application/vnd.jupyter.widget-view+json": {
       "model_id": "901f89d8a2da43d0ab0436a4418159ba",
       "version_major": 2,
       "version_minor": 0
      },
      "text/plain": [
       "Button(description='Run Analysis', style=ButtonStyle())"
      ]
     },
     "metadata": {},
     "output_type": "display_data"
    }
   ],
   "source": [
    "display(button)"
   ]
  }
 ],
 "metadata": {
  "hide_code_all_hidden": true,
  "kernelspec": {
   "display_name": "Python 3",
   "language": "python",
   "name": "python3"
  },
  "language_info": {
   "codemirror_mode": {
    "name": "ipython",
    "version": 3
   },
   "file_extension": ".py",
   "mimetype": "text/x-python",
   "name": "python",
   "nbconvert_exporter": "python",
   "pygments_lexer": "ipython3",
   "version": "3.7.10"
  }
 },
 "nbformat": 4,
 "nbformat_minor": 2
}
