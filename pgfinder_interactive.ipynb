{
 "cells": [
  {
   "cell_type": "markdown",
   "metadata": {
    "hideCode": true,
    "hidePrompt": true
   },
   "source": [
    "# PGFinder Interactive Notebook\n",
    "\n",
    "This notebook is a basic user interface to allow researchers less familiar with the command line to run PGFinder. Some compromises have been made to make it run as a Jupyter notebook on the free myBinder platform.\n",
    "\n",
    "To use the code to analyse your data you must work from top to bottom on this notebook, following instructions as you go. The first step is to execute all of the \"cells\" in the notebook so they are ready for your input. To do this...\n",
    "\n",
    "**Click *Kernel*>*Restart & Run All* on the menu, above.**\n",
    "\n",
    "If you have any problems or suggestions, or would like to contribute a mass library, please raise an [issue here](https://github.com/Mesnage-Org/pgfinder/issues)."
   ]
  },
  {
   "cell_type": "code",
   "execution_count": 1,
   "metadata": {
    "hideCode": true,
    "hidePrompt": true
   },
   "outputs": [
    {
     "output_type": "error",
     "ename": "SyntaxError",
     "evalue": "invalid syntax (<ipython-input-1-76fb92c50ab9>, line 126)",
     "traceback": [
      "\u001b[1;36m  File \u001b[1;32m\"<ipython-input-1-76fb92c50ab9>\"\u001b[1;36m, line \u001b[1;32m126\u001b[0m\n\u001b[1;33m    min=1,\u001b[0m\n\u001b[1;37m      ^\u001b[0m\n\u001b[1;31mSyntaxError\u001b[0m\u001b[1;31m:\u001b[0m invalid syntax\n"
     ]
    }
   ],
   "source": [
    "import base64\n",
    "import codecs\n",
    "import io\n",
    "import os\n",
    "import ipywidgets as widgets\n",
    "from ipywidgets import HTML\n",
    "from IPython.display import display\n",
    "from ipysheet import from_dataframe\n",
    "import pandas as pd\n",
    "\n",
    "from pgfinder import matching, validation\n",
    "\n",
    "# Get list of modifications\n",
    "allowed_mods = validation.allowed_modifications()\n",
    "\n",
    "# Get built in mass lists\n",
    "mass_lists_path = './data/masses'\n",
    "mass_lists = os.listdir(mass_lists_path)\n",
    "mass_lists.append('Upload Custom')\n",
    "\n",
    "# Utility functions\n",
    "def safe_load_deconvoluted():\n",
    "    try:\n",
    "        file_name = list(data_uploader.value.keys())[0]\n",
    "        file_contents = data_uploader.value[list(data_uploader.value.keys())[0]]['content'] # I hate this line of code\n",
    "        if not file_name.find('ftrs') == -1:\n",
    "            return matching.ftrs_reader(io.BytesIO(file_contents))\n",
    "        elif not file_name.find('txt') == -1:\n",
    "            return matching.maxquant_file_reader(io.BytesIO(file_contents))\n",
    "        else:\n",
    "            raise ValueError('Unknown file type.')\n",
    "    except:\n",
    "        print(\"Could not upload and display file, please make sure you have selected a file of the correct type.\")\n",
    "\n",
    "def safe_load_masses():\n",
    "    try:\n",
    "        file_contents = mass_uploader.value[list(mass_uploader.value.keys())[0]]['content'] # I hate this line of code\n",
    "        return matching.theo_masses_reader(io.BytesIO(file_contents))\n",
    "    except:\n",
    "        print(\"Could not upload and display mass library, please make sure you have selected a file of the correct type.\")\n",
    "        \n",
    "# Main analysis function\n",
    "def analysis(b):\n",
    "    # Upload maxquant file\n",
    "    uploaded_df = safe_load_deconvoluted()\n",
    "    \n",
    "    # Load mass list\n",
    "    if rb_masses.value == 'Upload Custom':\n",
    "        theo_masses = safe_load_masses()\n",
    "    else:\n",
    "        csv_filepath = os.path.join(mass_lists_path, rb_masses.value)\n",
    "        theo_masses = matching.theo_masses_reader(csv_filepath)\n",
    "\n",
    "    # Load ppm value\n",
    "    user_ppm = ppm_tol.value\n",
    "\n",
    "    # Make sure mod list is a list\n",
    "    mod_list = list(selector_mods.value)\n",
    "    \n",
    "    # Validate inputs\n",
    "    validation.validate_raw_data_df(uploaded_df)\n",
    "    validation.validate_theo_masses_df(theo_masses)\n",
    "    validation.validate_enabled_mod_list(mod_list)\n",
    "\n",
    "    results = matching.data_analysis(uploaded_df, theo_masses, 0.5, mod_list, user_ppm)\n",
    "    \n",
    "    # Make the download button\n",
    "    results_csv_str = results.to_csv()\n",
    "    filename = 'results.csv'\n",
    "    b64 = base64.b64encode(results_csv_str.encode())\n",
    "    payload = b64.decode()\n",
    "\n",
    "    html_buttons = '''<html>\n",
    "    <head>\n",
    "    <meta name=\"viewport\" content=\"width=device-width, initial-scale=1\">\n",
    "    </head>\n",
    "    <body>\n",
    "    <a download=\"{filename}\" href=\"data:text/csv;base64,{payload}\" download>\n",
    "    <button class=\"p-Widget jupyter-widgets jupyter-button widget-button mod-warning\">Download File</button>\n",
    "    </a>\n",
    "    </body>\n",
    "    </html>\n",
    "    '''\n",
    "\n",
    "    html_button = html_buttons.format(payload=payload,filename=filename)\n",
    "    display(HTML(html_button))\n",
    "    \n",
    "# Define widgets\n",
    "\n",
    "# Layout for a bigger button\n",
    "big_button = widgets.Layout(width='auto')\n",
    "\n",
    "# Deconvoluted Data file upload\n",
    "data_uploader = widgets.FileUpload(\n",
    "    accept = '.txt,.ftrs', \n",
    "    description = 'Upload Deconvoluted Data',\n",
    "    multiple = False,\n",
    "    layout = big_button\n",
    ") \n",
    "\n",
    "# Modifcation selector\n",
    "selector_mods = widgets.SelectMultiple(\n",
    "    options = allowed_mods,\n",
    "    description = 'Modification',\n",
    "    disabled = False\n",
    ")\n",
    "\n",
    "# Mass library selector\n",
    "rb_masses = widgets.RadioButtons(\n",
    "    options = mass_lists,\n",
    "    description = 'Mass List',\n",
    "    disabled = False\n",
    ")\n",
    "\n",
    "# Mass library file upload\n",
    "mass_uploader = widgets.FileUpload(\n",
    "    accept = '.csv', \n",
    "    description = 'Upload Mass Library',\n",
    "    multiple = False,\n",
    "    layout = big_button\n",
    ")\n",
    "\n",
    "# Set PPM tolerance\n",
    "ppm_tol = widgets.BoundedFloatText(\n",
    "    value=10.0,\n",
    "    min=1,\n",
    "    max=100,\n",
    "    step=0.1,\n",
    "    description='Set ppm tolerance',\n",
    "    disabled = False\n",
    "    )\n",
    "\n",
    "# Analysis button\n",
    "button = widgets.Button(description=\"Run Analysis\")\n",
    "button.on_click(analysis)"
   ]
  },
  {
   "cell_type": "markdown",
   "metadata": {
    "hideCode": true,
    "hidePrompt": true
   },
   "source": [
    "## Step 1: Upload Deconvoluted Data\n",
    "Click *Upload* to upload a `.txt` file output by MaxQuant ([example file](https://github.com/Mesnage-Org/pgfinder/raw/master/data/maxquant_test_data.txt)), or an `.ftrs` file."
   ]
  },
  {
   "cell_type": "code",
   "execution_count": 3,
   "metadata": {
    "hideCode": true,
    "hidePrompt": true
   },
   "outputs": [
    {
     "output_type": "display_data",
     "data": {
      "text/plain": "FileUpload(value={}, accept='.txt,.ftrs', description='Upload Deconvoluted Data', layout=Layout(width='auto'))",
      "application/vnd.jupyter.widget-view+json": {
       "version_major": 2,
       "version_minor": 0,
       "model_id": "c65ba54d952345699fc4716eae82e48d"
      }
     },
     "metadata": {}
    }
   ],
   "source": [
    "display(data_uploader)"
   ]
  },
  {
   "cell_type": "markdown",
   "metadata": {
    "hideCode": true,
    "hidePrompt": true
   },
   "source": [
    "## Step 2: Select Modifications\n",
    "Select modifications (Hold down control / command and click to select mulitple items.)"
   ]
  },
  {
   "cell_type": "code",
   "execution_count": 4,
   "metadata": {
    "hideCode": true,
    "hidePrompt": true
   },
   "outputs": [
    {
     "output_type": "display_data",
     "data": {
      "text/plain": "SelectMultiple(description='Modification', options=('Sodium', 'Potassium', 'Anhydro', 'DeAc', 'Deacetyl_Anhydr…",
      "application/vnd.jupyter.widget-view+json": {
       "version_major": 2,
       "version_minor": 0,
       "model_id": "760ec49f31374bc2a435b05254cc1ab1"
      }
     },
     "metadata": {}
    }
   ],
   "source": [
    "display(selector_mods) "
   ]
  },
  {
   "cell_type": "markdown",
   "metadata": {
    "hideCode": true,
    "hidePrompt": true
   },
   "source": [
    "## Step 3: Select or Upload Mass Library"
   ]
  },
  {
   "cell_type": "markdown",
   "metadata": {
    "hideCode": true,
    "hidePrompt": true
   },
   "source": [
    "### Select"
   ]
  },
  {
   "cell_type": "code",
   "execution_count": 5,
   "metadata": {
    "hideCode": true,
    "hidePrompt": true
   },
   "outputs": [
    {
     "output_type": "display_data",
     "data": {
      "text/plain": "RadioButtons(description='Mass List', options=('c_diff_monomer_masses.csv', 'e_coli_monomer_masses.csv', 'Uplo…",
      "application/vnd.jupyter.widget-view+json": {
       "version_major": 2,
       "version_minor": 0,
       "model_id": "bf8de382fbf5456c901ca4ec2b777e2a"
      }
     },
     "metadata": {}
    }
   ],
   "source": [
    "display(rb_masses)"
   ]
  },
  {
   "cell_type": "markdown",
   "metadata": {
    "hideCode": true,
    "hidePrompt": true
   },
   "source": [
    "### (Optional) Upload Custom Mass Library\n",
    "[Example mass library file.](https://raw.githubusercontent.com/Mesnage-Org/pgfinder/master/data/masses/e_coli_monomer_masses.csv)"
   ]
  },
  {
   "cell_type": "code",
   "execution_count": 6,
   "metadata": {
    "hideCode": true,
    "hidePrompt": true
   },
   "outputs": [
    {
     "output_type": "display_data",
     "data": {
      "text/plain": "FileUpload(value={}, accept='.csv', description='Upload Mass Library', layout=Layout(width='auto'))",
      "application/vnd.jupyter.widget-view+json": {
       "version_major": 2,
       "version_minor": 0,
       "model_id": "4c4f4928ce604d0baf288df88ca30443"
      }
     },
     "metadata": {}
    }
   ],
   "source": [
    "display(mass_uploader)"
   ]
  },
  {
   "source": [
    "## Step 4: Set PPM tolerance"
   ],
   "cell_type": "markdown",
   "metadata": {}
  },
  {
   "cell_type": "code",
   "execution_count": 7,
   "metadata": {},
   "outputs": [
    {
     "output_type": "display_data",
     "data": {
      "text/plain": "BoundedFloatText(value=1.0, description='Set ppm tolerance', min=1.0, step=0.1)",
      "application/vnd.jupyter.widget-view+json": {
       "version_major": 2,
       "version_minor": 0,
       "model_id": "f01268a80bc443cb901206687b904840"
      }
     },
     "metadata": {}
    }
   ],
   "source": [
    "display(ppm_tol)"
   ]
  },
  {
   "source": [
    "## Step 4: Run Analysis\n",
    "Click run analysis.\n",
    "After the analysis is complete, a download button will appear."
   ],
   "cell_type": "markdown",
   "metadata": {
    "hideCode": true,
    "hidePrompt": true
   }
  },
  {
   "cell_type": "code",
   "execution_count": 8,
   "metadata": {
    "hideCode": true,
    "hidePrompt": true
   },
   "outputs": [
    {
     "output_type": "display_data",
     "data": {
      "text/plain": "Button(description='Run Analysis', style=ButtonStyle())",
      "application/vnd.jupyter.widget-view+json": {
       "version_major": 2,
       "version_minor": 0,
       "model_id": "2825a862ed2b4bf6ae2990ca8525bd69"
      }
     },
     "metadata": {}
    }
   ],
   "source": [
    "display(button)"
   ]
  }
 ],
 "metadata": {
  "hide_code_all_hidden": true,
  "kernelspec": {
   "name": "python3710jvsc74a57bd0af6fc35132149d4e94fe526351b760c1b46f607de3340ece5b6c23e2166e8a88",
   "display_name": "Python 3.7.10 64-bit ('pgfinder': conda)"
  },
  "language_info": {
   "codemirror_mode": {
    "name": "ipython",
    "version": 3
   },
   "file_extension": ".py",
   "mimetype": "text/x-python",
   "name": "python",
   "nbconvert_exporter": "python",
   "pygments_lexer": "ipython3",
   "version": "3.7.10"
  }
 },
 "nbformat": 4,
 "nbformat_minor": 2
}