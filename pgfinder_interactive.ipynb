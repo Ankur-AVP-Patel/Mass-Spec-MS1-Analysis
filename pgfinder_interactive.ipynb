{
 "cells": [
  {
   "cell_type": "markdown",
   "metadata": {
    "hideCode": false,
    "hidePrompt": false
   },
   "source": [
    "# PGFinder Interactive Notebook\n",
    "\n",
    "This notebook is a basic user interface to allow researchers less familiar with the command line to run PGFinder. Some compromises have been made to make it run as a Jupyter notebook on the free myBinder platform.\n",
    "\n",
    "To use the code to analyse your data you must work from top to bottom on this notebook, following instructions as you go. The first step is to execute all of the \"cells\" in the notebook so they are ready for your input. To do this, click *Kernel*>*Restart & Run All* on the menu, above."
   ]
  },
  {
   "cell_type": "code",
   "execution_count": null,
   "metadata": {
    "hideCode": false,
    "hidePrompt": false
   },
   "outputs": [],
   "source": [
    "import base64\n",
    "import codecs\n",
    "import io\n",
    "import ipywidgets as widgets\n",
    "from ipywidgets import HTML\n",
    "from IPython.display import display\n",
    "from ipysheet import from_dataframe\n",
    "import pandas as pd\n",
    "\n",
    "from pgfinder import matching, validation\n",
    "\n",
    "allowed_mods = validation.allowed_modifications()"
   ]
  },
  {
   "cell_type": "markdown",
   "metadata": {
    "hideCode": false,
    "hidePrompt": false
   },
   "source": [
    "## Upload Maxquant Output File\n",
    "Click *Upload* to upload a `.txt` file output by MaxQuant."
   ]
  },
  {
   "cell_type": "code",
   "execution_count": null,
   "metadata": {
    "hideCode": false,
    "hidePrompt": false
   },
   "outputs": [],
   "source": [
    "uploader = widgets.FileUpload(accept = '.txt', multiple = False)\n",
    "display(uploader)"
   ]
  },
  {
   "cell_type": "markdown",
   "metadata": {
    "hideCode": false,
    "hidePrompt": false
   },
   "source": [
    "Run the cell below to show file contents."
   ]
  },
  {
   "cell_type": "code",
   "execution_count": null,
   "metadata": {
    "hideCode": false,
    "hidePrompt": false
   },
   "outputs": [],
   "source": [
    "try:\n",
    "    file_contents = uploader.value[list(uploader.value.keys())[0]]['content'] # I hate this line of code\n",
    "    uploaded_df = matching.maxquant_file_reader(io.BytesIO(file_contents))\n",
    "    display(from_dataframe(uploaded_df.head(10)))\n",
    "except:\n",
    "    print(\"Could not upload and display file, please make sure you have selected a file.\")"
   ]
  },
  {
   "cell_type": "markdown",
   "metadata": {
    "hideCode": false,
    "hidePrompt": false
   },
   "source": [
    "## Multiple Selections\n",
    "Hold down control / command and click to select mulitple items."
   ]
  },
  {
   "cell_type": "code",
   "execution_count": null,
   "metadata": {
    "hideCode": false,
    "hidePrompt": false
   },
   "outputs": [],
   "source": [
    "selector = widgets.SelectMultiple(\n",
    "    options = allowed_mods,\n",
    "    description = 'Modification',\n",
    "    disabled = False\n",
    ")\n",
    "display(selector)"
   ]
  },
  {
   "cell_type": "code",
   "execution_count": null,
   "metadata": {
    "hideCode": false,
    "hidePrompt": false
   },
   "outputs": [],
   "source": [
    "if not selector.value:\n",
    "    print('No value selected, this is probably OK.')\n",
    "else:\n",
    "    print(selector.value)"
   ]
  },
  {
   "cell_type": "markdown",
   "metadata": {
    "hideCode": false,
    "hidePrompt": false
   },
   "source": [
    "## Downloader"
   ]
  },
  {
   "cell_type": "code",
   "execution_count": null,
   "metadata": {
    "hideCode": false,
    "hidePrompt": false
   },
   "outputs": [],
   "source": [
    "res = 'A,B,C,D\\n1,1,Cat,%^%&*^\\n2,2,Dog,asducnbaoisj\\n3,3,Fish,aspcmasp'\n",
    "\n",
    "#FILE\n",
    "filename = 'res.csv'\n",
    "b64 = base64.b64encode(res.encode())\n",
    "payload = b64.decode()\n",
    "\n",
    "#BUTTONS\n",
    "html_buttons = '''<html>\n",
    "<head>\n",
    "<meta name=\"viewport\" content=\"width=device-width, initial-scale=1\">\n",
    "</head>\n",
    "<body>\n",
    "<a download=\"{filename}\" href=\"data:text/csv;base64,{payload}\" download>\n",
    "<button class=\"p-Widget jupyter-widgets jupyter-button widget-button mod-warning\">Download File</button>\n",
    "</a>\n",
    "</body>\n",
    "</html>\n",
    "'''\n",
    "\n",
    "html_button = html_buttons.format(payload=payload,filename=filename)\n",
    "display(HTML(html_button))"
   ]
  }
 ],
 "metadata": {
  "celltoolbar": "Hide code",
  "hide_code_all_hidden": false,
  "kernelspec": {
   "display_name": "Python 3",
   "language": "python",
   "name": "python3"
  },
  "language_info": {
   "codemirror_mode": {
    "name": "ipython",
    "version": 3
   },
   "file_extension": ".py",
   "mimetype": "text/x-python",
   "name": "python",
   "nbconvert_exporter": "python",
   "pygments_lexer": "ipython3",
   "version": "3.7.10"
  }
 },
 "nbformat": 4,
 "nbformat_minor": 4
}
