{
 "metadata": {
  "language_info": {
   "codemirror_mode": {
    "name": "ipython",
    "version": 3
   },
   "file_extension": ".py",
   "mimetype": "text/x-python",
   "name": "python",
   "nbconvert_exporter": "python",
   "pygments_lexer": "ipython3",
   "version": "3.7.7-final"
  },
  "orig_nbformat": 2,
  "kernelspec": {
   "name": "python3",
   "display_name": "Python 3"
  }
 },
 "nbformat": 4,
 "nbformat_minor": 2,
 "cells": [
  {
   "cell_type": "markdown",
   "metadata": {},
   "source": [
    "# MS1 End-to-end Demo\n",
    "\n",
    "## Introduction\n",
    "This is a demo of running MS1 end-to-end with data held in the [MS1 Repository on GitHub](https://github.com/Mesnage-Org/Mass-Spec-MS1-Analysis/).\n",
    "\n",
    "## How to run it:\n",
    "If you're running this via `mybinder` click the `Cell` menu, then `Run All`."
   ]
  },
  {
   "cell_type": "markdown",
   "metadata": {},
   "source": [
    "Import required libraries:"
   ]
  },
  {
   "cell_type": "code",
   "execution_count": 1,
   "metadata": {},
   "outputs": [],
   "source": [
    "from ipysheet import from_dataframe\n",
    "import pandas as pd\n",
    "import matching"
   ]
  },
  {
   "cell_type": "code",
   "execution_count": 2,
   "metadata": {},
   "outputs": [],
   "source": [
    "masses_file_name = \"E_coli_disaccharides_monomers_only.csv\"\n",
    "ftrs_file_name = \"OT_200124_Ecoli_WT_1_Rep1.ftrs\"\n",
    "output_file_name = \"OT_200124_Ecoli_WT_1_Rep1 Cleaned 25ppm tol 2.csv\" # Will be generated"
   ]
  },
  {
   "source": [
    "Read and display monoisotopic mass list (first 10 rows):"
   ],
   "cell_type": "markdown",
   "metadata": {}
  },
  {
   "cell_type": "code",
   "execution_count": 3,
   "metadata": {},
   "outputs": [
    {
     "output_type": "display_data",
     "data": {
      "text/plain": "Sheet(cells=(Cell(column_end=0, column_start=0, numeric_format=None, row_end=9, row_start=0, squeeze_row=False…",
      "application/vnd.jupyter.widget-view+json": {
       "version_major": 2,
       "version_minor": 0,
       "model_id": "5464f7e80b17415487c980877df5d202"
      }
     },
     "metadata": {}
    }
   ],
   "source": [
    "mass_df = pd.read_csv(masses_file_name)\n",
    "display(from_dataframe(mass_df.head(10)))"
   ]
  },
  {
   "source": [
    "Read and display ftrs list (first 10 rows):"
   ],
   "cell_type": "markdown",
   "metadata": {}
  },
  {
   "cell_type": "code",
   "execution_count": 4,
   "metadata": {},
   "outputs": [
    {
     "output_type": "display_data",
     "data": {
      "text/plain": "Sheet(cells=(Cell(column_end=0, column_start=0, numeric_format='0[.]0', row_end=9, row_start=0, squeeze_row=Fa…",
      "application/vnd.jupyter.widget-view+json": {
       "version_major": 2,
       "version_minor": 0,
       "model_id": "c2bb073b26ce4d84a2fdd4389bcda52b"
      }
     },
     "metadata": {}
    }
   ],
   "source": [
    "ftrs_df = matching.ftrs_reader(ftrs_file_name)\n",
    "display(from_dataframe(ftrs_df.head(10)))"
   ]
  },
  {
   "source": [
    "Run matching:"
   ],
   "cell_type": "markdown",
   "metadata": {}
  },
  {
   "cell_type": "code",
   "execution_count": 5,
   "metadata": {},
   "outputs": [
    {
     "output_type": "stream",
     "name": "stdout",
     "text": [
      "Filtering Theo masses by observed masses\n",
      "Building multimers from obs muropeptides\n",
      "fitering theo multimers by observed\n",
      "building custom searh file\n",
      "generating variants\n",
      "Matching\n",
      "Cleaning data\n",
      "Processing 52 Sodium Adducts\n",
      "drop idx:  388  has already been removed\n",
      "drop idx:  388  has already been removed\n",
      "drop idx:  388  has already been removed\n",
      "Processing 247 potassium adducts\n",
      "drop idx:  228  has already been removed\n",
      "drop idx:  228  has already been removed\n",
      "drop idx:  228  has already been removed\n",
      "drop idx:  228  has already been removed\n",
      "drop idx:  228  has already been removed\n",
      "drop idx:  240  has already been removed\n",
      "drop idx:  240  has already been removed\n",
      "drop idx:  340  has already been removed\n",
      "drop idx:  340  has already been removed\n",
      "drop idx:  340  has already been removed\n",
      "drop idx:  360  has already been removed\n",
      "drop idx:  360  has already been removed\n",
      "drop idx:  360  has already been removed\n",
      "drop idx:  422  has already been removed\n",
      "drop idx:  422  has already been removed\n",
      "drop idx:  422  has already been removed\n",
      "drop idx:  422  has already been removed\n",
      "drop idx:  422  has already been removed\n",
      "drop idx:  422  has already been removed\n",
      "drop idx:  422  has already been removed\n",
      "drop idx:  422  has already been removed\n",
      "drop idx:  430  has already been removed\n",
      "drop idx:  430  has already been removed\n",
      "drop idx:  430  has already been removed\n",
      "Processing 195 in source decay products\n",
      "drop idx:  227  has already been removed\n",
      "drop idx:  227  has already been removed\n",
      "drop idx:  227  has already been removed\n",
      "drop idx:  227  has already been removed\n",
      "drop idx:  227  has already been removed\n",
      "drop idx:  232  has already been removed\n",
      "drop idx:  232  has already been removed\n",
      "drop idx:  310  has already been removed\n",
      "drop idx:  310  has already been removed\n",
      "drop idx:  310  has already been removed\n",
      "drop idx:  310  has already been removed\n",
      "drop idx:  310  has already been removed\n",
      "drop idx:  310  has already been removed\n",
      "drop idx:  310  has already been removed\n",
      "drop idx:  310  has already been removed\n",
      "drop idx:  347  has already been removed\n",
      "drop idx:  347  has already been removed\n",
      "drop idx:  347  has already been removed\n",
      "drop idx:  366  has already been removed\n",
      "drop idx:  366  has already been removed\n",
      "drop idx:  366  has already been removed\n",
      "drop idx:  328  has already been removed\n",
      "drop idx:  328  has already been removed\n",
      "drop idx:  424  has already been removed\n",
      "drop idx:  424  has already been removed\n",
      "drop idx:  424  has already been removed\n",
      "drop idx:  424  has already been removed\n",
      "drop idx:  424  has already been removed\n",
      "drop idx:  424  has already been removed\n",
      "drop idx:  424  has already been removed\n",
      "drop idx:  424  has already been removed\n",
      "Saving results\n",
      "OT_200124_Ecoli_WT_1_Rep1.ftrs\n"
     ]
    }
   ],
   "source": [
    "matching.main(ftrs_file_name, masses_file_name)"
   ]
  },
  {
   "source": [
    "Read and display results (first 10 rows):"
   ],
   "cell_type": "markdown",
   "metadata": {}
  },
  {
   "cell_type": "code",
   "execution_count": 7,
   "metadata": {},
   "outputs": [
    {
     "output_type": "display_data",
     "data": {
      "text/plain": "Sheet(cells=(Cell(column_end=0, column_start=0, numeric_format=None, row_end=9, row_start=0, squeeze_row=False…",
      "application/vnd.jupyter.widget-view+json": {
       "version_major": 2,
       "version_minor": 0,
       "model_id": "af3cc7cb0afb496ab1abe0e0ad516408"
      }
     },
     "metadata": {}
    }
   ],
   "source": [
    "output_df = pd.read_csv(output_file_name)\n",
    "display(from_dataframe(mass_df.head(10)))"
   ]
  },
  {
   "cell_type": "code",
   "execution_count": null,
   "metadata": {},
   "outputs": [],
   "source": []
  }
 ]
}