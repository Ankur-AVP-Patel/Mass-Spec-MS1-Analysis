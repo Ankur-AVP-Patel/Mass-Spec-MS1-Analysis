{
 "cells": [
  {
   "cell_type": "markdown",
   "metadata": {},
   "source": [
    "# MS1 End-to-end Demo\n",
    "\n",
    "## Introduction\n",
    "This is a demo of running MS1 end-to-end with data held in the [MS1 Repository on GitHub](https://github.com/Mesnage-Org/Mass-Spec-MS1-Analysis/).\n",
    "\n",
    "## How to run it:\n",
    "If you're running this via `mybinder` click the `Cell` menu, then `Run All`."
   ]
  },
  {
   "cell_type": "markdown",
   "metadata": {},
   "source": [
    "Import required libraries:"
   ]
  },
  {
   "cell_type": "code",
   "execution_count": 1,
   "metadata": {},
   "outputs": [],
   "source": [
    "from ipysheet import from_dataframe\n",
    "import pandas as pd\n",
    "import ms1.matching as matching"
   ]
  },
  {
   "cell_type": "code",
   "execution_count": 2,
   "metadata": {},
   "outputs": [],
   "source": [
    "masses_file_name = \"data/test_masses.csv\"\n",
    "ftrs_file_name = \"data/test_ms_data.ftrs\"\n",
    "output_file_name = \"eg_output.csv\""
   ]
  },
  {
   "cell_type": "markdown",
   "metadata": {},
   "source": [
    "Read and display monoisotopic mass list (first 10 rows):"
   ]
  },
  {
   "cell_type": "code",
   "execution_count": 3,
   "metadata": {},
   "outputs": [
    {
     "data": {
      "application/vnd.jupyter.widget-view+json": {
       "model_id": "904f211377604cbf910517f09713d2bb",
       "version_major": 2,
       "version_minor": 0
      },
      "text/plain": [
       "Sheet(cells=(Cell(column_end=0, column_start=0, numeric_format=None, row_end=9, row_start=0, squeeze_row=False…"
      ]
     },
     "metadata": {},
     "output_type": "display_data"
    }
   ],
   "source": [
    "theo_masses = pd.read_csv(masses_file_name)\n",
    "display(from_dataframe(theo_masses.head(10)))"
   ]
  },
  {
   "cell_type": "markdown",
   "metadata": {},
   "source": [
    "Read and display ftrs list (first 10 rows):"
   ]
  },
  {
   "cell_type": "code",
   "execution_count": 4,
   "metadata": {},
   "outputs": [
    {
     "data": {
      "application/vnd.jupyter.widget-view+json": {
       "model_id": "61a693ba187f44be819de9e893fad4e0",
       "version_major": 2,
       "version_minor": 0
      },
      "text/plain": [
       "Sheet(cells=(Cell(column_end=0, column_start=0, numeric_format='0[.]0', row_end=9, row_start=0, squeeze_row=Fa…"
      ]
     },
     "metadata": {},
     "output_type": "display_data"
    }
   ],
   "source": [
    "raw_data = matching.ftrs_reader(ftrs_file_name)\n",
    "display(from_dataframe(raw_data.head(10)))"
   ]
  },
  {
   "cell_type": "markdown",
   "metadata": {},
   "source": [
    "Run matching:"
   ]
  },
  {
   "cell_type": "code",
   "execution_count": 5,
   "metadata": {},
   "outputs": [
    {
     "name": "stdout",
     "output_type": "stream",
     "text": [
      "Filtering Theo masses by observed masses\n",
      "Building multimers from obs muropeptides\n",
      "fitering theo multimers by observed\n",
      "building custom searh file\n",
      "generating variants\n",
      "Matching\n",
      "Cleaning data\n",
      "Processing 39 Sodium Adducts\n",
      "No  ^K+  found\n",
      "No  ^M  found\n",
      "(132, 2)\n"
     ]
    }
   ],
   "source": [
    "mod_test = ['Sodium','Nude', 'DeAc']\n",
    "results = matching.data_analysis(raw_data, theo_masses, 0.5, mod_test)"
   ]
  },
  {
   "cell_type": "markdown",
   "metadata": {},
   "source": [
    "Read and display results (first 10 rows):"
   ]
  },
  {
   "cell_type": "code",
   "execution_count": 6,
   "metadata": {
    "scrolled": true
   },
   "outputs": [
    {
     "data": {
      "application/vnd.jupyter.widget-view+json": {
       "model_id": "47d710360331429eb4aea32e86a9c802",
       "version_major": 2,
       "version_minor": 0
      },
      "text/plain": [
       "Sheet(cells=(Cell(column_end=0, column_start=0, numeric_format='0[.]0', row_end=9, row_start=0, squeeze_row=Fa…"
      ]
     },
     "metadata": {},
     "output_type": "display_data"
    }
   ],
   "source": [
    "display(from_dataframe(results.head(10)))"
   ]
  },
  {
   "cell_type": "markdown",
   "metadata": {},
   "source": [
    "Save output:"
   ]
  },
  {
   "cell_type": "code",
   "execution_count": null,
   "metadata": {},
   "outputs": [],
   "source": [
    "results.to_csv(output_file_name)"
   ]
  }
 ],
 "metadata": {
  "kernelspec": {
   "display_name": "Python 3",
   "language": "python",
   "name": "python3"
  },
  "language_info": {
   "codemirror_mode": {
    "name": "ipython",
    "version": 3
   },
   "file_extension": ".py",
   "mimetype": "text/x-python",
   "name": "python",
   "nbconvert_exporter": "python",
   "pygments_lexer": "ipython3",
   "version": "3.7.7"
  }
 },
 "nbformat": 4,
 "nbformat_minor": 2
}
