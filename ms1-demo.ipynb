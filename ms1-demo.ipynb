{
 "metadata": {
  "language_info": {
   "codemirror_mode": {
    "name": "ipython",
    "version": 3
   },
   "file_extension": ".py",
   "mimetype": "text/x-python",
   "name": "python",
   "nbconvert_exporter": "python",
   "pygments_lexer": "ipython3",
   "version": "3.7.7-final"
  },
  "orig_nbformat": 2,
  "kernelspec": {
   "name": "python3",
   "display_name": "Python 3"
  }
 },
 "nbformat": 4,
 "nbformat_minor": 2,
 "cells": [
  {
   "cell_type": "markdown",
   "metadata": {},
   "source": [
    "# MS1 End-to-end Demo\n",
    "\n",
    "## Introduction\n",
    "This is a demo of running MS1 end-to-end with data held in the [MS1 Repository on GitHub](https://github.com/Mesnage-Org/Mass-Spec-MS1-Analysis/).\n",
    "\n",
    "## How to run it:\n",
    "If you're running this via `mybinder` click the `Cell` menu, then `Run All`."
   ]
  },
  {
   "cell_type": "markdown",
   "metadata": {},
   "source": [
    "Import required libraries:"
   ]
  },
  {
   "cell_type": "code",
   "execution_count": 1,
   "metadata": {},
   "outputs": [],
   "source": [
    "from ipysheet import from_dataframe\n",
    "import pandas as pd\n",
    "import matching"
   ]
  },
  {
   "cell_type": "code",
   "execution_count": 2,
   "metadata": {},
   "outputs": [],
   "source": [
    "masses_file_name = \"E_coli_disaccharides_monomers_only.csv\"\n",
    "ftrs_file_name = \"OT_200124_Ecoli_WT_1_Rep1.ftrs\""
   ]
  },
  {
   "source": [
    "Read and display monoisotopic mass list:"
   ],
   "cell_type": "markdown",
   "metadata": {}
  },
  {
   "cell_type": "code",
   "execution_count": 3,
   "metadata": {},
   "outputs": [
    {
     "output_type": "display_data",
     "data": {
      "text/plain": "Sheet(cells=(Cell(column_end=0, column_start=0, numeric_format=None, row_end=227, row_start=0, squeeze_row=Fal…",
      "application/vnd.jupyter.widget-view+json": {
       "version_major": 2,
       "version_minor": 0,
       "model_id": "86f01e2688014deb896b9a5d735ccff0"
      }
     },
     "metadata": {}
    }
   ],
   "source": [
    "mass_df = pd.read_csv(masses_file_name)\n",
    "display(from_dataframe(mass_df))"
   ]
  },
  {
   "cell_type": "code",
   "execution_count": 5,
   "metadata": {},
   "outputs": [
    {
     "output_type": "display_data",
     "data": {
      "text/plain": "Sheet(cells=(Cell(column_end=0, column_start=0, numeric_format='0[.]0', row_end=2204, row_start=0, squeeze_row…",
      "application/vnd.jupyter.widget-view+json": {
       "version_major": 2,
       "version_minor": 0,
       "model_id": "d15c524291d94b6aaafb490c861285ae"
      }
     },
     "metadata": {}
    }
   ],
   "source": [
    "ftrs_df = matching.ftrs_reader(ftrs_file_name)\n",
    "display(from_dataframe(ftrs_df))"
   ]
  }
 ]
}