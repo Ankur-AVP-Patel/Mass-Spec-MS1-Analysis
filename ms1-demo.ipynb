{
 "metadata": {
  "language_info": {
   "codemirror_mode": {
    "name": "ipython",
    "version": 3
   },
   "file_extension": ".py",
   "mimetype": "text/x-python",
   "name": "python",
   "nbconvert_exporter": "python",
   "pygments_lexer": "ipython3",
   "version": "3.7.7-final"
  },
  "orig_nbformat": 2,
  "kernelspec": {
   "name": "python3",
   "display_name": "Python 3"
  }
 },
 "nbformat": 4,
 "nbformat_minor": 2,
 "cells": [
  {
   "cell_type": "markdown",
   "metadata": {},
   "source": [
    "# MS1 GUI Demo\n",
    "This is a demo of loading a file in and displaying it - if we can do this, we can do most of what we want from a \"GUI\"!"
   ]
  },
  {
   "cell_type": "markdown",
   "metadata": {},
   "source": [
    "Import required libraries:"
   ]
  },
  {
   "cell_type": "code",
   "execution_count": 1,
   "metadata": {},
   "outputs": [],
   "source": [
    "from ipysheet import from_dataframe\n",
    "import pandas as pd\n",
    "import matching"
   ]
  },
  {
   "source": [
    "Read and display monoisotopic mass list:"
   ],
   "cell_type": "markdown",
   "metadata": {}
  },
  {
   "cell_type": "code",
   "execution_count": 2,
   "metadata": {},
   "outputs": [
    {
     "output_type": "display_data",
     "data": {
      "text/plain": "Sheet(cells=(Cell(column_end=0, column_start=0, numeric_format=None, row_end=227, row_start=0, squeeze_row=Fal…",
      "application/vnd.jupyter.widget-view+json": {
       "version_major": 2,
       "version_minor": 0,
       "model_id": "04cad013201e49e3b9c9b3e1a8ab9125"
      }
     },
     "metadata": {}
    }
   ],
   "source": [
    "df = pd.read_csv(\"E_coli_disaccharides_monomers_only.csv\")\n",
    "sheet = from_dataframe(df)\n",
    "display(sheet)"
   ]
  }
 ]
}